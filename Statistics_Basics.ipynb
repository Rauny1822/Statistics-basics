{
  "nbformat": 4,
  "nbformat_minor": 0,
  "metadata": {
    "colab": {
      "provenance": []
    },
    "kernelspec": {
      "name": "python3",
      "display_name": "Python 3"
    },
    "language_info": {
      "name": "python"
    }
  },
  "cells": [
    {
      "cell_type": "code",
      "execution_count": null,
      "metadata": {
        "id": "kwB-dwupsiq5"
      },
      "outputs": [],
      "source": []
    },
    {
      "cell_type": "markdown",
      "source": [
        "1. What is statistics, and why is it important?\n",
        " -  statistics is a branch of mathematics that deals with the  collecting ,organizing,analyzing,interpreting and presenting data to extract meaningful insights and make decisions based on that data.\n",
        " -  Importance of Statistics:\n",
        "\n",
        "-  Better Decision Making: Helps individuals and organizations make data-driven decisions.\n",
        "\n",
        "-  Understanding Data: Summarizes large datasets using tools like mean, median, mode, etc.\n",
        "\n",
        "-  Prediction: Assists in forecasting future trends using probability and statistical models.\n",
        "\n",
        "-  Problem Solving: Used in research, business, healthcare, and many fields to identify and solve problems.\n",
        "\n",
        "-  Scientific Research: Validates experimental results through data analysis."
      ],
      "metadata": {
        "id": "zA1_wTErswAX"
      }
    },
    {
      "cell_type": "markdown",
      "source": [
        "2. what are the two main types of statistics?\n",
        "-  the two main types of statistics are.\n",
        "-  1.Descriptive Statistics:\n",
        "This type of statistics is used to summarize and describe the main features of a dataset. It helps in organizing data in a meaningful way.\n",
        "\n",
        "  Examples: Mean, Median, Mode, Range, Standard Deviation, Graphs, Tables.\n",
        "\n",
        "-  Use: To describe what the data shows.\n",
        "\n",
        "-  Example:\n",
        "The average age of students in a class is 20 years.\n",
        "-  2. Inferential Statistics:\n",
        "This type is used to make predictions or generalizations about a larger population based on a sample of data.\n",
        "\n",
        "-   Examples: Hypothesis Testing, Confidence Intervals, Regression Analysis.\n",
        "\n",
        "-  Use: To draw conclusions and make decisions using data.\n",
        "\n",
        "-  Example:\n",
        "Based on a sample survey, we estimate that 70% of voters support a candidate.\n",
        "\n"
      ],
      "metadata": {
        "id": "DHdS3hwkwDHI"
      }
    },
    {
      "cell_type": "markdown",
      "source": [
        "3. what are descreptive statistics ?\n",
        " -  this type of data is used to summarize and describe the main features of the dataset.it helps in organizing data in meaningful way.\n",
        "-  Example : Mean,Median,Mode,Range,standard deviation,etc."
      ],
      "metadata": {
        "id": "Xs5lo1zLx890"
      }
    },
    {
      "cell_type": "markdown",
      "source": [
        "4. what are the infrential statistics?\n",
        " -  This type of data is used to make prediction or generalization about the large population with help of the sample of the data.\n",
        " -  Example : hypthesis testing,confidence interval"
      ],
      "metadata": {
        "id": "QZzliU4I7qFG"
      }
    },
    {
      "cell_type": "markdown",
      "source": [
        "5.What is sampling in statistics?.\n",
        "-  Sampling is a statistical process of selecting a subset (sample) from a larger population to estimate characteristics of the whole population.\n",
        "\n",
        "-  Since studying the entire population is often impractical or expensive, sampling allows researchers to collect data efficiently, saving time, cost, and effort, while still providing valid insights."
      ],
      "metadata": {
        "id": "S-a0nE-Y8zAN"
      }
    },
    {
      "cell_type": "markdown",
      "source": [
        "6 What are the different types of sampling methods?\n",
        "-  Random Sampling - Every member has an equal chance (e.g., lottery).\n",
        "\n",
        "-  Systematic Sampling - Selecting every k-th item (e.g., every 10th person).\n",
        "\n",
        "-  Stratified Sampling - Dividing population into subgroups (strata) and sampling from each.\n",
        "\n",
        "-  Cluster Sampling - Dividing population into clusters and randomly selecting some clusters.\n",
        "\n",
        "-  Convenience Sampling - Selecting what's easiest (less reliable, but quick)."
      ],
      "metadata": {
        "id": "nhTiyiE2SsTs"
      }
    },
    {
      "cell_type": "markdown",
      "source": [
        "7.What is the difference between random and non-random sampling?.\n",
        "-  Random Sampling:\n",
        "Random sampling is a sampling method in which each member of the population has an equal and known chance of being selected. It reduces bias and helps ensure that the sample represents the overall population.\n",
        "Example: Selecting names from a hat or using a random number generator.\n",
        "\n",
        "-  Non-random sampling is a method where samples are selected based on non-random criteria, such as convenience, judgment, or specific characteristics. It may introduce bias and might not represent the whole population accurately.\n",
        "Example: Choosing participants who are easily available or volunteering."
      ],
      "metadata": {
        "id": "g0bZ_WWwTVEo"
      }
    },
    {
      "cell_type": "markdown",
      "source": [
        "8.Define and give examples of qualitative and quantitative data?\n",
        "\n",
        "Qualitative data refers to non-numerical information that describes qualities or characteristics. It cannot be measured in numbers but can be categorized.\n",
        "\n",
        "Examples:\n",
        "\n",
        "-  Colors of cars (Red, Blue, Black)\n",
        "\n",
        "- Types of cuisine (Indian, Italian, Chinese)\n",
        "\n",
        "- Gender (Male, Female, Other)\n",
        "\n",
        "- Customer feedback (Good, Bad, Excellent)\n",
        "\n",
        "Quantitative data refers to numerical information that can be measured or counted. It represents quantities and supports mathematical calculations.\n",
        "\n",
        "Examples:\n",
        "\n",
        "- Age of people (25, 30, 45)\n",
        "\n",
        "- Temperature in Celsius (22°C, 35°C)\n",
        "\n",
        "- Number of students in a class (40)\n",
        "\n",
        "- Height of buildings (150 meters)\n",
        "\n",
        "\n"
      ],
      "metadata": {
        "id": "6cOxGpUkT7HT"
      }
    },
    {
      "cell_type": "markdown",
      "source": [
        "9.What are the different types of data in statistics?\n",
        "- In statistics, data is broadly classified into two main types: Qualitative and Quantitative. These are further divided into subtypes.\n",
        "1. Qualitative Data (Categorical Data)\n",
        "\n",
        "a. Nominal Data\n",
        "b. Ordinal Data\n",
        "\n",
        "2. Quantitative Data (Numerical Data)\n",
        "\n",
        "a. Discrete Data\n",
        "b. Continuous Data\n",
        "\n",
        "\n",
        "\n"
      ],
      "metadata": {
        "id": "XfqTNWK-xt1-"
      }
    },
    {
      "cell_type": "markdown",
      "source": [
        "10.Explain nominal, ordinal, interval, and ratio levels of measurement.\n",
        "\n",
        "-  There are four levels of measurement used to classify data: Nominal, Ordinal, Interval, and Ratio. Each level determines the type of analysis you can perform.\n",
        "\n",
        " 1. Nominal Level\n",
        "\n",
        "Nominal data is categorical and consists of names, labels, or categories. There is no order or ranking among the categories.\n",
        "\n",
        "Examples:\n",
        "\n",
        "Gender (Male, Female, Other)\n",
        "\n",
        "Blood type (A, B, AB, O)\n",
        "\n",
        "Nationality (Indian, American, Chinese)\n",
        "\n",
        "🔹 2. Ordinal Level\n",
        "\n",
        "Ordinal data is categorical with a meaningful order, but the differences between values are not measurable or consistent.\n",
        "\n",
        "Examples:\n",
        "\n",
        "Education level (High School < Bachelor < Master)\n",
        "\n",
        "Customer satisfaction (Poor < Fair < Good < Excellent)\n",
        "\n",
        "Rankings (1st, 2nd, 3rd)\n",
        "\n",
        "🔹 3. Interval Level\n",
        "\n",
        "Interval data is numerical, has equal intervals between values, but no true zero point.\n",
        "\n",
        "Examples:\n",
        "\n",
        "Temperature in Celsius or Fahrenheit (0°C doesn’t mean “no temperature”)\n",
        "\n",
        "Dates (2000, 2020, etc.)\n",
        "\n",
        "Time on a clock (without context)\n",
        "\n",
        "🔹 4. Ratio Level\n",
        "\n",
        "Ratio data is numerical with equal intervals and a true zero point. You can compare values using multiplication and division.\n",
        "\n",
        "Examples:\n",
        "\n",
        "Height, weight, age, income\n",
        "\n",
        "Distance (0 meters = no distance)\n",
        "\n",
        "Time duration (0 seconds = no time)"
      ],
      "metadata": {
        "id": "_EAcGYMKY1te"
      }
    },
    {
      "cell_type": "markdown",
      "source": [
        "11.what is the measure of central tendency?\n",
        "-  Measure of central tendency is a statistical concept that describes the center point or typical value of a dataset. It helps to summarize a large set of data with a single representative value.\n",
        "\n",
        "-  In simple words, it tells us where most values in a dataset lie — or what is \"average\" in some sense.\n",
        "\n",
        "🔹 Main Measures of Central Tendency:\n",
        "-  mean(average)\n",
        "-  meadian\n",
        "-  mode"
      ],
      "metadata": {
        "id": "pSIhwVKEajGB"
      }
    },
    {
      "cell_type": "markdown",
      "source": [
        "12.Define mean, median, and mode.\n",
        "\n",
        "🔹 Main Measures of Central Tendency:\n",
        "Mean (Average)\n",
        "\n",
        "-  The sum of all values divided by the number of values.\n",
        "\n",
        "Formula:\n",
        "\n",
        "Mean = sum of all values /total number of values\n",
        "\n",
        " Example: For data [5, 10, 15], Mean = (5+10+15)/3 = 10\n",
        "\n",
        "🔹 Median\n",
        "\n",
        "-  The middle value when data is arranged in order.\n",
        "\n",
        "-  If number of values is even, it’s the average of the two middle values.\n",
        "\n",
        "Example: [3, 5, 7] → Median = 5\n",
        "[2, 4, 6, 8] → Median = (4+6)/2 = 5\n",
        "\n",
        "🔹Mode\n",
        "\n",
        "-  The value that occurs most frequently in the data.\n",
        "\n",
        "-  A dataset can have no mode, one mode, or multiple modes.\n",
        "\n",
        "Example: [2, 3, 3, 4, 5] → Mode = 3"
      ],
      "metadata": {
        "id": "rRg56-OTcxQb"
      }
    },
    {
      "cell_type": "markdown",
      "source": [
        "13. What is the significance of the measure of central tendency?\n",
        "-  The measure of central tendency is important in statistics because it provides a single value that describes the center or average of a dataset. This central value helps us understand, compare, and interpret data more easily."
      ],
      "metadata": {
        "id": "IUdQxCa9eA8B"
      }
    },
    {
      "cell_type": "markdown",
      "source": [
        "14. What is variance, and how is it calculated?\n",
        "\n",
        "🔹Variance is a statistical measure that tells us how much the values in a dataset differ from the mean (average). It shows the spread or dispersion of data.\n",
        "\n",
        "-  High variance = data points are spread out from the mean\n",
        "\n",
        "-  Low variance = data points are close to the mean\n",
        "\n"
      ],
      "metadata": {
        "id": "rlfgDmIbeein"
      }
    },
    {
      "cell_type": "markdown",
      "source": [
        "15.What is standard deviation, and why is it important?\n",
        "\n",
        "🔹 Standard deviation is a statistical measure that shows how much the values in a dataset deviate (spread out) from the mean (average).\n",
        "\n",
        "-  It is the square root of the variance.\n",
        "\n",
        "-  A low standard deviation means the data points are close to the mean.\n",
        "\n",
        "-  A high standard deviation means the data points are more spread out."
      ],
      "metadata": {
        "id": "uGkPOvG0e2cu"
      }
    },
    {
      "cell_type": "markdown",
      "source": [
        "16. Define and explain the term range in statistics.\n",
        "\n",
        "🔹 Definition:\n",
        "In statistics, the range is the difference between the highest and lowest values in a dataset. It gives a basic measure of how spread out the values are.\n",
        "🔹 Formula:\n",
        "Range = maximum - minimum"
      ],
      "metadata": {
        "id": "dX7WGlTSfNme"
      }
    },
    {
      "cell_type": "markdown",
      "source": [
        "17. What is the difference between variance and standard deviation?\n",
        "\n",
        "🔹 Variance:\n",
        "Variance is a statistical measure that represents the average of the squared differences from the mean. It shows how much the data points spread out from the average value. Variance is expressed in squared units of the original data (e.g., cm², kg²).\n",
        "\n",
        "🔹 Standard Deviation:\n",
        "Standard deviation is a statistical measure that represents the average distance of each data point from the mean. It is the square root of variance and is expressed in the same unit as the original data."
      ],
      "metadata": {
        "id": "1qsVAqm_gK2E"
      }
    },
    {
      "cell_type": "markdown",
      "source": [
        "18. What is skewness in a dataset?\n",
        "\n",
        "🔹 Definition of Skewness:\n",
        "Skewness is a measure of the asymmetry or lack of symmetry in the distribution of data. It tells us whether the data is skewed to the left (negatively skewed) or skewed to the right (positively skewed).\n",
        "\n",
        "In simple terms, skewness indicates whether the data is clustered more on one side of the mean than the other."
      ],
      "metadata": {
        "id": "rA4x3ZSOhF49"
      }
    },
    {
      "cell_type": "markdown",
      "source": [
        "19. What does it mean if a dataset is positively or negatively skewed?\n",
        "\n",
        "🔹 Positively Skewed (Right Skewed) Dataset:\n",
        "Meaning: In a positively skewed dataset, the right tail (higher values) is longer than the left tail, meaning the majority of the data points are on the lower end with a few extremely high values stretching the distribution.\n",
        "\n",
        "Characteristics:\n",
        "\n",
        "-  The mean is greater than the median because the few high values pull the mean to the right.\n",
        "\n",
        "-  The distribution has a long right tail.\n",
        "\n",
        "Example: Income levels in a population, where most people earn average or low salaries, but a few individuals earn very high incomes.\n",
        "\n",
        "🔹 Negatively Skewed (Left Skewed) Dataset:\n",
        "Meaning: In a negatively skewed dataset, the left tail (lower values) is longer than the right tail, meaning the majority of the data points are on the higher end, with a few extremely low values stretching the distribution.\n",
        "\n",
        "Characteristics:\n",
        "\n",
        "-  The mean is less than the median because the few low values pull the mean to the left.\n",
        "\n",
        "-  The distribution has a long left tail.\n",
        "\n",
        "Example: Age at death, where most people live to an old age, but a few people die at a young age.\n",
        "\n",
        "\n",
        "\n",
        "\n",
        "\n"
      ],
      "metadata": {
        "id": "6Sn2F_V4hktK"
      }
    },
    {
      "cell_type": "markdown",
      "source": [
        "20. Define and explain kurtosis.\n",
        "\n",
        "🔹 Definition:\n",
        "Kurtosis is a statistical measure that describes the shape of a dataset’s distribution—specifically, the height and sharpness of the distribution's peak. It measures the tailedness of the distribution, or how much of the data is in the tails (extreme values) compared to a normal distribution."
      ],
      "metadata": {
        "id": "QtufYmd-igNx"
      }
    },
    {
      "cell_type": "markdown",
      "source": [
        "21. What is the purpose of covariance?\n",
        "\n",
        "🔹 Definition:\n",
        "-  Covariance is a statistical measure that indicates the direction of the linear relationship between two variables. It tells us how much two variables change together. If the variables tend to increase or decrease together, the covariance will be positive. If one variable increases while the other decreases, the covariance will be negative. If there is no consistent pattern in their changes, the covariance will be zero.\n",
        "\n",
        "🔹 Purpose of Covariance:\n",
        "Measure of Relationship:\n",
        "\n",
        "-  Covariance helps to understand how two variables relate to each other. It gives an indication of whether the variables move in the same direction (positive covariance), in opposite directions (negative covariance), or if there is no relationship (zero covariance).\n",
        "\n",
        "Indicator of Trends:\n",
        "\n",
        "-  Positive covariance shows that as one variable increases, the other tends to increase as well. Negative covariance shows that as one variable increases, the other tends to decrease.\n",
        "\n",
        "Foundation for Correlation:\n",
        "\n",
        "-  Covariance is the basis for correlation, another measure that standardizes covariance, making it easier to compare relationships between variables, as correlation is not affected by the scale of the variables.\n",
        "\n",
        "\n",
        "\n"
      ],
      "metadata": {
        "id": "Y06AjNjVjI5r"
      }
    },
    {
      "cell_type": "markdown",
      "source": [
        "22. What does correlation measure in statistics?\n",
        "\n",
        "🔹 Definition:\n",
        "Correlation in statistics measures the strength and direction of the linear relationship between two variables. It tells us how closely related the two variables are, indicating whether an increase in one variable is associated with an increase or decrease in the other.\n",
        "\n",
        "-  Positive Correlation: If one variable increases, the other also increases.\n",
        "\n",
        "-  Negative Correlation: If one variable increases, the other decreases.\n",
        "\n",
        "-  No Correlation: There is no predictable relationship between the variables."
      ],
      "metadata": {
        "id": "sfI7r5vfjoZC"
      }
    },
    {
      "cell_type": "markdown",
      "source": [
        "23.What is the difference between covariance and correlation?\n",
        "\n",
        "🔹 Covariance:\n",
        "-  Definition: Covariance measures the direction of the linear relationship between two variables. It shows whether the variables increase or decrease together (positive covariance) or in opposite directions (negative covariance).\n",
        "\n",
        "-  Units: Covariance is expressed in the units of the original variables multiplied together (e.g., if one variable is in meters and the other is in kilograms, the covariance will be in meter-kilograms).\n",
        "\n",
        "-  Interpretation: The magnitude of covariance is difficult to interpret because it depends on the scale of the variables.\n",
        "\n",
        "🔹 Correlation:\n",
        "Definition: Correlation measures both the strength and direction of the linear relationship between two variables. It is a standardized version of covariance that makes it easier to compare relationships between different pairs of variables.\n",
        "\n",
        "-  Units: Correlation is unitless and ranges between -1 and 1, making it easier to interpret and compare across different datasets.\n",
        "\n",
        "-  Interpretation: The value of the correlation coefficient (r) indicates the strength of the relationship:\n",
        "\n",
        "-  r = 1: Perfect positive correlation,\n",
        "\n",
        "-  r = -1: Perfect negative correlation,\n",
        "\n",
        "-  r = 0: No linear relationship."
      ],
      "metadata": {
        "id": "pRt6dpiskT2h"
      }
    },
    {
      "cell_type": "markdown",
      "source": [
        "24. What are some real-world applications of statistics?\n",
        "-  Statistics is used in almost every field to collect, analyze, interpret, and present data in order to make informed decisions. Below are some key real-world applications of statistics.\n",
        "\n",
        "🔹 1. Business and Marketing\n",
        "- Application: Companies use statistics to understand consumer behavior, track sales performance, conduct market research, and set pricing strategies.\n",
        "\n",
        "- Example: Analyzing customer feedback to improve products or services.\n",
        "\n",
        "🔹 2. Healthcare and Medicine\n",
        "-  Application: Used in medical research, clinical trials, and to track disease outbreaks and patient statistics.\n",
        "\n",
        "-  Example: Determining the effectiveness of a new drug through statistical analysis of trial results."
      ],
      "metadata": {
        "id": "nNz67-z7lEBg"
      }
    },
    {
      "cell_type": "markdown",
      "source": [
        "# PRACTICAL"
      ],
      "metadata": {
        "id": "AZpNHtgKmC61"
      }
    },
    {
      "cell_type": "code",
      "source": [
        "#What is statistics, and why is it important?\n",
        "import statistics\n",
        "\n",
        "# Sample dataset\n",
        "data = [45, 50, 55, 60, 65, 70, 75, 80, 85]\n",
        "\n",
        "# Calculate Mean\n",
        "mean = statistics.mean(data)\n",
        "\n",
        "# Calculate Median\n",
        "median = statistics.median(data)\n",
        "\n",
        "# Calculate Mode (may raise an error if no mode exists)\n",
        "try:\n",
        "    mode = statistics.mode(data)\n",
        "except statistics.StatisticsError:\n",
        "    mode = \"No mode\"\n",
        "\n",
        "# Print results\n",
        "print(f\"Mean: {mean}\")\n",
        "print(f\"Median: {median}\")\n",
        "print(f\"Mode: {mode}\")\n"
      ],
      "metadata": {
        "colab": {
          "base_uri": "https://localhost:8080/"
        },
        "id": "rirhkrcCmLHn",
        "outputId": "66286ef7-c15a-44e8-df63-e7778b0d43ed"
      },
      "execution_count": 1,
      "outputs": [
        {
          "output_type": "stream",
          "name": "stdout",
          "text": [
            "Mean: 65\n",
            "Median: 65\n",
            "Mode: 45\n"
          ]
        }
      ]
    },
    {
      "cell_type": "code",
      "source": [
        "# 2.Write a Python program to compute the variance and standard deviation of a dataset5\n",
        "import statistics\n",
        "\n",
        "# Sample dataset\n",
        "data = [45, 50, 55, 60, 65, 70, 75, 80, 85]\n",
        "\n",
        "# Calculate Variance\n",
        "variance = statistics.variance(data)  # Sample variance\n",
        "# For population variance, use: statistics.pvariance(data)\n",
        "\n",
        "# Calculate Standard Deviation\n",
        "std_dev = statistics.stdev(data)  # Sample standard deviation\n",
        "# For population standard deviation, use: statistics.pstdev(data)\n",
        "\n",
        "# Print the results\n",
        "print(f\"Variance: {variance}\")\n",
        "print(f\"Standard Deviation: {std_dev}\")\n"
      ],
      "metadata": {
        "colab": {
          "base_uri": "https://localhost:8080/"
        },
        "id": "9lA9S3idnK_9",
        "outputId": "e84188d0-290e-43f3-97c5-7080a809dfb1"
      },
      "execution_count": 2,
      "outputs": [
        {
          "output_type": "stream",
          "name": "stdout",
          "text": [
            "Variance: 187.5\n",
            "Standard Deviation: 13.693063937629153\n"
          ]
        }
      ]
    },
    {
      "cell_type": "code",
      "source": [
        "# 3.Create a dataset and classify it into nominal, ordinal, interval, and ratio types.\n"
      ],
      "metadata": {
        "id": "oZsidQvZntDP"
      },
      "execution_count": null,
      "outputs": []
    },
    {
      "cell_type": "code",
      "source": [
        "# 4. Implement sampling techniques like random sampling and stratified sampling.\n",
        "\n",
        "\n",
        "import pandas as pd\n",
        "\n",
        "# Sample dataset\n",
        "data = {\n",
        "    'Name': ['Amit', 'Bina', 'Chetan', 'Divya', 'Esha', 'Faiz', 'Gita', 'Hari'],\n",
        "    'Age': [23, 21, 24, 22, 25, 24, 23, 22],\n",
        "    'Gender': ['M', 'F', 'M', 'F', 'F', 'M', 'F', 'M']\n",
        "}\n",
        "\n",
        "df = pd.DataFrame(data)\n",
        "\n",
        "# Random sampling of 3 records\n",
        "random_sample = df.sample(n=3, random_state=1)\n",
        "\n",
        "print(\"🎯 Random Sample:\")\n",
        "print(random_sample)\n",
        "\n",
        "# Stratified sampling\n",
        "\n",
        "from sklearn.model_selection import train_test_split\n",
        "\n",
        "# Stratified sampling using 'Gender' as the strata\n",
        "# test_size = proportion of the sample you want\n",
        "stratified_sample, _ = train_test_split(df, test_size=0.625, stratify=df['Gender'], random_state=1)\n",
        "\n",
        "print(\"\\n📊 Stratified Sample (by Gender):\")\n",
        "print(stratified_sample)\n",
        "\n",
        "\n",
        "\n",
        "\n"
      ],
      "metadata": {
        "id": "1QNuQNTuoz_r"
      },
      "execution_count": null,
      "outputs": []
    },
    {
      "cell_type": "code",
      "source": [
        "#5.Write a Python function to calculate the range of a dataset?\n",
        "\n",
        "def calculate_range(data):\n",
        "    return max(data) - min(data)\n",
        ""
      ],
      "metadata": {
        "id": "Z1HbG78ipYxs"
      },
      "execution_count": 5,
      "outputs": []
    },
    {
      "cell_type": "code",
      "source": [
        "# 6. Create a dataset and plot its histogram to visualize skewness.\n",
        "\n",
        "import matplotlib.pyplot as plt\n",
        "import seaborn as sns\n",
        "import numpy as np\n",
        "\n",
        "# Step 1: Create a dataset\n",
        "# Creating a dataset with positively skewed values (right-skewed)\n",
        "np.random.seed(42)\n",
        "data = np.random.exponential(scale=2, size=1000)  # Exponential distribution (positively skewed)\n",
        "\n",
        "# Step 2: Plot the histogram using seaborn\n",
        "plt.figure(figsize=(10, 6))\n",
        "sns.histplot(data, kde=True, bins=30, color='skyblue')\n",
        "\n",
        "# Step 3: Add labels and title\n",
        "plt.title('Histogram of a Positively Skewed Dataset', fontsize=15)\n",
        "plt.xlabel('Value', fontsize=12)\n",
        "plt.ylabel('Frequency', fontsize=12)\n",
        "\n",
        "# Show the plot\n",
        "plt.show()\n"
      ],
      "metadata": {
        "colab": {
          "base_uri": "https://localhost:8080/",
          "height": 570
        },
        "id": "NFmE2_vqqG_A",
        "outputId": "2ca7bc48-d72c-4c75-a7d8-9c7b560a3564"
      },
      "execution_count": 6,
      "outputs": [
        {
          "output_type": "display_data",
          "data": {
            "text/plain": [
              "<Figure size 1000x600 with 1 Axes>"
            ],
            "image/png": "[encoded data removed]"
          },
          "metadata": {}
        }
      ]
    },
    {
      "cell_type": "code",
      "source": [
        "# 7.5 Calculate skewness and kurtosis of a dataset using Python libraries.\n",
        "\n",
        "import numpy as np\n",
        "import scipy.stats as stats\n",
        "\n",
        "# Step 1: Create a sample dataset\n",
        "data = np.random.normal(loc=0, scale=1, size=1000)  # Normally distributed data\n",
        "\n",
        "# Step 2: Calculate Skewness\n",
        "skewness = stats.skew(data)\n",
        "\n",
        "# Step 3: Calculate Kurtosis\n",
        "kurtosis = stats.kurtosis(data)\n",
        "\n",
        "# Step 4: Display the results\n",
        "print(f\"Skewness: {skewness}\")\n",
        "print(f\"Kurtosis: {kurtosis}\")\n"
      ],
      "metadata": {
        "colab": {
          "base_uri": "https://localhost:8080/"
        },
        "id": "HITNp27NrEjZ",
        "outputId": "752348b3-cb97-4849-97c3-c6a7948bda7c"
      },
      "execution_count": 7,
      "outputs": [
        {
          "output_type": "stream",
          "name": "stdout",
          "text": [
            "Skewness: -0.036662811518565416\n",
            "Kurtosis: -0.02712404243324462\n"
          ]
        }
      ]
    },
    {
      "cell_type": "code",
      "source": [
        "#8. Generate a dataset and demonstrate positive and negative skewness.\n",
        "\n",
        "import numpy as np\n",
        "import matplotlib.pyplot as plt\n",
        "\n",
        "# Generate a positively skewed dataset (right tail is longer)\n",
        "positive_skew_data = np.random.exponential(scale=2, size=1000)\n",
        "\n",
        "# Generate a negatively skewed dataset (left tail is longer)\n",
        "negative_skew_data = np.random.exponential(scale=2, size=1000) * -1\n",
        "\n",
        "# Plot both datasets\n",
        "plt.figure(figsize=(10, 5))\n",
        "\n",
        "# Positive Skew\n",
        "plt.subplot(1, 2, 1)\n",
        "plt.hist(positive_skew_data, bins=30, color='skyblue', edgecolor='black')\n",
        "plt.title('Positively Skewed Data')\n",
        "plt.xlabel('Value')\n",
        "plt.ylabel('Frequency')\n",
        "\n",
        "# Negative Skew\n",
        "plt.subplot(1, 2, 2)\n",
        "plt.hist(negative_skew_data, bins=30, color='salmon', edgecolor='black')\n",
        "plt.title('Negatively Skewed Data')\n",
        "plt.xlabel('Value')\n",
        "plt.ylabel('Frequency')\n",
        "\n",
        "# Show the plots\n",
        "plt.tight_layout()\n",
        "plt.show()\n"
      ],
      "metadata": {
        "colab": {
          "base_uri": "https://localhost:8080/",
          "height": 507
        },
        "id": "3NXKJk_HrdW-",
        "outputId": "64830839-0405-4284-df8e-7c5153bf9e81"
      },
      "execution_count": 8,
      "outputs": [
        {
          "output_type": "display_data",
          "data": {
            "text/plain": [
              "<Figure size 1000x500 with 2 Axes>"
            ],
            "image/png": "[encoded data removed]"
          },
          "metadata": {}
        }
      ]
    },
    {
      "cell_type": "code",
      "source": [
        "# 9.Write a Python script to calculate covariance between two datasets?\n",
        "\n",
        "import numpy as np\n",
        "\n",
        "# Step 1: Create two sample datasets\n",
        "data1 = np.array([2, 4, 6, 8, 10])\n",
        "data2 = np.array([1, 3, 5, 7, 9])\n",
        "\n",
        "# Step 2: Calculate covariance using numpy's cov function\n",
        "cov_matrix = np.cov(data1, data2)\n",
        "\n",
        "# Step 3: The covariance value is the off-diagonal element in the covariance matrix\n",
        "cov_value = cov_matrix[0, 1]\n",
        "\n",
        "# Step 4: Display the result\n",
        "print(f\"Covariance between the two datasets: {cov_value}\")\n"
      ],
      "metadata": {
        "colab": {
          "base_uri": "https://localhost:8080/"
        },
        "id": "mmgxMPlvsAEK",
        "outputId": "40a84a99-bcb1-4cdc-d0ca-903c35021b5b"
      },
      "execution_count": 9,
      "outputs": [
        {
          "output_type": "stream",
          "name": "stdout",
          "text": [
            "Covariance between the two datasets: 10.0\n"
          ]
        }
      ]
    },
    {
      "cell_type": "code",
      "source": [
        "# 10. Write a Python script to calculate the correlation coefficient between two datasets?\n",
        "\n",
        "import numpy as np\n",
        "from scipy.stats import pearsonr\n",
        "\n",
        "# Step 1: Create two sample datasets\n",
        "data1 = np.array([2, 4, 6, 8, 10])\n",
        "data2 = np.array([1, 3, 5, 7, 9])\n",
        "\n",
        "# Step 2: Calculate the Pearson correlation coefficient using scipy\n",
        "correlation_coefficient, _ = pearsonr(data1, data2)\n",
        "\n",
        "# Step 3: Display the result\n",
        "print(f\"Pearson Correlation Coefficient between the two datasets: {correlation_coefficient}\")\n"
      ],
      "metadata": {
        "id": "aANOxotHsRfZ"
      },
      "execution_count": null,
      "outputs": []
    },
    {
      "cell_type": "code",
      "source": [
        "# 11.Create a scatter plot to visualize the relationship between two variables.\n",
        "import matplotlib.pyplot as plt\n",
        "import seaborn as sns\n",
        "import numpy as np\n",
        "\n",
        "# Step 1: Create two sample datasets\n",
        "x = np.array([2, 4, 6, 8, 10])\n",
        "y = np.array([1, 3, 5, 7, 9])\n",
        "\n",
        "# Step 2: Create a scatter plot\n",
        "plt.figure(figsize=(8, 6))\n",
        "sns.scatterplot(x=x, y=y, color='blue', marker='o')\n",
        "\n",
        "# Step 3: Add labels and title\n",
        "plt.title('Scatter Plot of Two Variables', fontsize=15)\n",
        "plt.xlabel('Variable X', fontsize=12)\n",
        "plt.ylabel('Variable Y', fontsize=12)\n",
        "\n",
        "# Step 4: Show the plot\n",
        "plt.show()\n"
      ],
      "metadata": {
        "colab": {
          "base_uri": "https://localhost:8080/",
          "height": 570
        },
        "id": "xf5NulgcseNo",
        "outputId": "8992728e-fa2a-447e-ac46-b0820efd3062"
      },
      "execution_count": 10,
      "outputs": [
        {
          "output_type": "display_data",
          "data": {
            "text/plain": [
              "<Figure size 800x600 with 1 Axes>"
            ],
            "image/png": "[encoded data removed]"
          },
          "metadata": {}
        }
      ]
    },
    {
      "cell_type": "code",
      "source": [
        "# 12.Implement and compare simple random sampling and systematic sampling.\n",
        "import numpy as np\n",
        "\n",
        "# Step 1: Create a dataset\n",
        "data = np.array([i for i in range(1, 101)])  # Dataset from 1 to 100\n",
        "\n",
        "# Step 2: Simple Random Sampling (Randomly select 10 elements)\n",
        "simple_random_sample = np.random.choice(data, size=10, replace=False)\n",
        "\n",
        "# Step 3: Systematic Sampling (Select every 10th element)\n",
        "step_size = 10\n",
        "systematic_sample = data[::step_size]\n",
        "\n",
        "# Step 4: Display the results\n",
        "print(\"Simple Random Sample:\", simple_random_sample)\n",
        "print(\"Systematic Sample:\", systematic_sample)\n"
      ],
      "metadata": {
        "colab": {
          "base_uri": "https://localhost:8080/"
        },
        "id": "m495ZIt2s_08",
        "outputId": "9b71cf78-785f-4415-aeff-f0fd2f04e573"
      },
      "execution_count": 16,
      "outputs": [
        {
          "output_type": "stream",
          "name": "stdout",
          "text": [
            "Simple Random Sample: [84 78 89 38 16 20 10 82 40 11]\n",
            "Systematic Sample: [ 1 11 21 31 41 51 61 71 81 91]\n"
          ]
        }
      ]
    },
    {
      "cell_type": "code",
      "source": [
        "# 13. Calculate the mean, median, and mode of grouped data.\n",
        "\n",
        "'''\n",
        "note : many of these question i dont even undertstand .i have switches my background from non-it to it\n",
        "kindly help us to understand these question . this is completeli new for me or many of us\n",
        "so its a request to pw team that dont go way too hard on us.\n",
        "most of the question i did using chatgpt.\n",
        "'''"
      ],
      "metadata": {
        "id": "4ajpd6Rstt4a"
      },
      "execution_count": null,
      "outputs": []
    },
    {
      "cell_type": "code",
      "source": [
        "# 14. Simulate data using Python and calculate its central tendency and dispersion.\n",
        "\n",
        "\n",
        "import numpy as np\n",
        "import scipy.stats as stats\n",
        "\n",
        "# Step 1: Simulate data (generate 100 random data points from a normal distribution)\n",
        "data = np.random.normal(loc=50, scale=10, size=100)  # Mean=50, Standard deviation=10\n",
        "\n",
        "# Step 2: Calculate Central Tendency\n",
        "mean = np.mean(data)\n",
        "median = np.median(data)\n",
        "mode = stats.mode(data)[0][0]\n",
        "\n",
        "# Step 3: Calculate Dispersion\n",
        "variance = np.var(data)\n",
        "std_deviation = np.std(data)\n",
        "range_value = np.max(data) - np.min(data)\n",
        "\n",
        "# Step 4: Display Results\n",
        "print(f\"Mean: {mean}\")\n",
        "print(f\"Median: {median}\")\n",
        "print(f\"Mode: {mode}\")\n",
        "print(f\"Variance: {variance}\")\n",
        "print(f\"Standard Deviation: {std_deviation}\")\n",
        "print(f\"Range: {range_value}\")\n",
        "\n"
      ],
      "metadata": {
        "id": "31ydXhgDuO9-"
      },
      "execution_count": null,
      "outputs": []
    },
    {
      "cell_type": "code",
      "source": [
        "# 15. Use NumPy or pandas to summarize a dataset’s descriptive statistics.\n",
        "\n",
        "import pandas as pd\n",
        "import numpy as np\n",
        "\n",
        "# Step 1: Generate a sample dataset (for example, 100 random numbers)\n",
        "data = np.random.normal(loc=50, scale=10, size=100)\n",
        "\n",
        "# Convert the data into a pandas DataFrame (optional, if you want to use pandas)\n",
        "df = pd.DataFrame(data, columns=['Value'])\n",
        "\n",
        "# Step 2: Use pandas describe() function to summarize descriptive statistics\n",
        "summary = df.describe()\n",
        "\n",
        "# Display the summary\n",
        "print(\"Descriptive Statistics using pandas:\")\n",
        "print(summary)\n",
        "\n",
        "# Step 3: Alternatively, calculate descriptive statistics using NumPy\n",
        "mean = np.mean(data)\n",
        "median = np.median(data)\n",
        "std_dev = np.std(data)\n",
        "variance = np.var(data)\n",
        "range_value = np.max(data) - np.min(data)\n",
        "\n",
        "# Display the statistics manually calculated with NumPy\n",
        "print(\"\\nDescriptive Statistics using NumPy:\")\n",
        "print(f\"Mean: {mean}\")\n",
        "print(f\"Median: {median}\")\n",
        "print(f\"Standard Deviation: {std_dev}\")\n",
        "print(f\"Variance: {variance}\")\n",
        "print(f\"Range: {range_value}\")\n"
      ],
      "metadata": {
        "id": "bv_N70HXwrZK"
      },
      "execution_count": null,
      "outputs": []
    },
    {
      "cell_type": "code",
      "source": [
        "# 16. Plot a boxplot to understand the spread and identify outliers.\n",
        "\n",
        "import numpy as np\n",
        "import seaborn as sns\n",
        "import matplotlib.pyplot as plt\n",
        "\n",
        "# Step 1: Generate a sample dataset (100 random data points from a normal distribution)\n",
        "data = np.random.normal(loc=50, scale=10, size=100)\n",
        "\n",
        "# Step 2: Create a boxplot using Seaborn\n",
        "sns.boxplot(data=data)\n",
        "\n",
        "# Step 3: Customize the plot\n",
        "plt.title('Boxplot of Simulated Data')\n",
        "plt.ylabel('Value')\n",
        "\n",
        "# Step 4: Display the plot\n",
        "plt.show()\n"
      ],
      "metadata": {
        "id": "APlG_R6exMwJ"
      },
      "execution_count": null,
      "outputs": []
    },
    {
      "cell_type": "code",
      "source": [
        "#17.import numpy as np\n",
        "\n",
        "# Sample data\n",
        "data = np.random.normal(loc=50, scale=10, size=100)\n",
        "\n",
        "# Step 1: Calculate Q1 (25th percentile) and Q3 (75th percentile)\n",
        "Q1 = np.percentile(data, 25)\n",
        "Q3 = np.percentile(data, 75)\n",
        "\n",
        "# Step 2: Calculate the Interquartile Range (IQR)\n",
        "IQR = Q3 - Q1\n",
        "\n",
        "# Display the results\n",
        "print(f\"First Quartile (Q1): {Q1}\")\n",
        "print(f\"Third Quartile (Q3): {Q3}\")\n",
        "print(f\"Interquartile Range (IQR): {IQR}\")\n"
      ],
      "metadata": {
        "id": "irdJu7RPxfmJ"
      },
      "execution_count": null,
      "outputs": []
    },
    {
      "cell_type": "code",
      "source": [
        "#18.> Implement Z-score normalization and explain its significance.\n",
        "\n",
        "import numpy as np\n",
        "\n",
        "# Sample dataset\n",
        "data = np.array([45, 50, 55, 60, 65, 70, 75, 80, 85, 90])\n",
        "\n",
        "# Step 1: Calculate mean and standard deviation\n",
        "mean = np.mean(data)\n",
        "std_dev = np.std(data)\n",
        "\n",
        "# Step 2: Calculate Z-scores for the data\n",
        "z_scores = (data - mean) / std_dev\n",
        "\n",
        "# Display the results\n",
        "print(f\"Mean: {mean}\")\n",
        "print(f\"Standard Deviation: {std_dev}\")\n",
        "print(f\"Z-Scores: {z_scores}\")\n"
      ],
      "metadata": {
        "id": "91np5CQjxtwN"
      },
      "execution_count": null,
      "outputs": []
    },
    {
      "cell_type": "code",
      "source": [
        "#  19.Compare two datasets using their standard deviations.\n",
        "\n",
        "\n",
        "import numpy as np\n",
        "\n",
        "# Step 1: Generate two sample datasets\n",
        "data1 = np.random.normal(loc=50, scale=10, size=100)  # Dataset 1 with mean=50, std=10\n",
        "data2 = np.random.normal(loc=50, scale=20, size=100)  # Dataset 2 with mean=50, std=20\n",
        "\n",
        "# Step 2: Calculate the standard deviation of both datasets\n",
        "std_dev1 = np.std(data1)\n",
        "std_dev2 = np.std(data2)\n",
        "\n",
        "# Step 3: Compare the standard deviations\n",
        "print(f\"Standard Deviation of Dataset 1: {std_dev1}\")\n",
        "print(f\"Standard Deviation of Dataset 2: {std_dev2}\")\n",
        "\n",
        "# Interpretation\n",
        "if std_dev1 > std_dev2:\n",
        "    print(\"Dataset 1 is more spread out (larger standard deviation).\")\n",
        "elif std_dev1 < std_dev2:\n",
        "    print(\"Dataset 2 is more spread out (larger standard deviation).\")\n",
        "else:\n",
        "    print(\"Both datasets have the same spread (same standard deviation).\")\n"
      ],
      "metadata": {
        "id": "EMeVRAKmx8_H"
      },
      "execution_count": null,
      "outputs": []
    },
    {
      "cell_type": "code",
      "source": [
        "# 20. Write a Python program to visualize covariance using a heatmap>.\n",
        "import numpy as np\n",
        "import pandas as pd\n",
        "import seaborn as sns\n",
        "import matplotlib.pyplot as plt\n",
        "\n",
        "# Step 1: Generate a sample dataset\n",
        "np.random.seed(42)\n",
        "data = np.random.rand(10, 5)  # 10 samples and 5 features\n",
        "\n",
        "# Convert to a DataFrame for easier manipulation\n",
        "df = pd.DataFrame(data, columns=['A', 'B', 'C', 'D', 'E'])\n",
        "\n",
        "# Step 2: Calculate the covariance matrix\n",
        "cov_matrix = df.cov()\n",
        "\n",
        "# Step 3: Plot the heatmap\n",
        "plt.figure(figsize=(8, 6))\n",
        "sns.heatmap(cov_matrix, annot=True, cmap='coolwarm', fmt='.2f', linewidths=0.5)\n",
        "\n",
        "# Step 4: Customize and display the plot\n",
        "plt.title('Covariance Matrix Heatmap')\n",
        "plt.show()\n"
      ],
      "metadata": {
        "id": "6wp0r8JHyLC8"
      },
      "execution_count": null,
      "outputs": []
    },
    {
      "cell_type": "code",
      "source": [
        "#21. Use seaborn to create a correlation matrix for a dataset.\n",
        "\n",
        "import seaborn as sns\n",
        "import pandas as pd\n",
        "import numpy as np\n",
        "import matplotlib.pyplot as plt\n",
        "\n",
        "# Step 1: Generate or load a dataset\n",
        "# Simulated dataset\n",
        "np.random.seed(0)\n",
        "data = {\n",
        "    'Math': np.random.randint(50, 100, 20),\n",
        "    'Science': np.random.randint(45, 95, 20),\n",
        "    'English': np.random.randint(55, 90, 20),\n",
        "    'History': np.random.randint(40, 85, 20)\n",
        "}\n",
        "\n",
        "df = pd.DataFrame(data)\n",
        "\n",
        "# Step 2: Calculate the correlation matrix\n",
        "corr_matrix = df.corr()\n",
        "\n",
        "# Step 3: Plot the correlation matrix using seaborn\n",
        "plt.figure(figsize=(8, 6))\n",
        "sns.heatmap(corr_matrix, annot=True, cmap='coolwarm', fmt='.2f', linewidths=0.5)\n",
        "\n",
        "# Step 4: Customize the plot\n",
        "plt.title('Correlation Matrix Heatmap')\n",
        "plt.show()\n"
      ],
      "metadata": {
        "id": "qpIlHhyxyjzy"
      },
      "execution_count": null,
      "outputs": []
    },
    {
      "cell_type": "code",
      "source": [
        "#22. > Generate a dataset and implement both variance and standard deviation computations>\n",
        "\n",
        "import numpy as np\n",
        "\n",
        "# Step 1: Generate a sample dataset\n",
        "data = np.random.randint(10, 100, size=10)  # 10 random integers between 10 and 100\n",
        "print(\"Dataset:\", data)\n",
        "\n",
        "# Step 2: Calculate Mean\n",
        "mean = np.mean(data)\n",
        "\n",
        "# Step 3: Compute Variance (Manual)\n",
        "variance_manual = sum((x - mean) ** 2 for x in data) / len(data)\n",
        "\n",
        "# Step 4: Compute Standard Deviation (Manual)\n",
        "std_dev_manual = variance_manual ** 0.5\n",
        "\n",
        "# Step 5: Use NumPy built-in functions\n",
        "variance_np = np.var(data)\n",
        "std_dev_np = np.std(data)\n",
        "\n",
        "# Step 6: Display Results\n",
        "print(\"\\nMean:\", mean)\n",
        "print(\"Manual Variance:\", variance_manual)\n",
        "print(\"Manual Standard Deviation:\", std_dev_manual)\n",
        "print(\"\\nNumPy Variance:\", variance_np)\n",
        "print(\"NumPy Standard Deviation:\", std_dev_np)\n"
      ],
      "metadata": {
        "id": "RYV-UxBWy2mZ"
      },
      "execution_count": 17,
      "outputs": []
    },
    {
      "cell_type": "code",
      "source": [
        "# 23.  Visualize skewness and kurtosis using Python libraries like matplotlib or seaborn>\n",
        "import numpy as np\n",
        "import pandas as pd\n",
        "import seaborn as sns\n",
        "import matplotlib.pyplot as plt\n",
        "from scipy.stats import skew, kurtosis\n",
        "\n",
        "# Step 1: Generate synthetic data (normal + skewed)\n",
        "np.random.seed(42)\n",
        "data = np.random.gamma(shape=2.0, scale=2.0, size=1000)  # positively skewed data\n",
        "\n",
        "# Step 2: Calculate skewness and kurtosis\n",
        "sk = skew(data)\n",
        "kt = kurtosis(data)\n",
        "\n",
        "# Step 3: Plot histogram with KDE\n",
        "plt.figure(figsize=(10, 6))\n",
        "sns.histplot(data, kde=True, bins=30, color='skyblue', edgecolor='black')\n",
        "plt.title(f\"Histogram with KDE\\nSkewness: {sk:.2f}, Kurtosis: {kt:.2f}\")\n",
        "plt.xlabel(\"Values\")\n",
        "plt.ylabel(\"Frequency\")\n",
        "plt.grid(True)\n",
        "plt.show()\n"
      ],
      "metadata": {
        "id": "S77_ZxBj1F8t"
      },
      "execution_count": null,
      "outputs": []
    },
    {
      "cell_type": "code",
      "source": [
        "#24 . > Implement the Pearson and Spearman correlation coefficients for a dataset.\n",
        "\n",
        "import numpy as np\n",
        "import pandas as pd\n",
        "from scipy.stats import pearsonr, spearmanr\n",
        "\n",
        "# Step 1: Generate sample dataset\n",
        "np.random.seed(0)\n",
        "x = np.random.randint(50, 100, size=20)\n",
        "y = x + np.random.normal(0, 10, size=20)  # add some noise\n",
        "\n",
        "# Step 2: Convert to DataFrame for clarity\n",
        "df = pd.DataFrame({'X': x, 'Y': y})\n",
        "\n",
        "# Step 3: Compute Pearson Correlation\n",
        "pearson_corr, _ = pearsonr(df['X'], df['Y'])\n",
        "\n",
        "# Step 4: Compute Spearman Correlation\n",
        "spearman_corr, _ = spearmanr(df['X'], df['Y'])\n",
        "\n",
        "# Step 5: Print results\n",
        "print(\"Dataset:\\n\", df.head())\n",
        "print(f\"\\nPearson Correlation Coefficient: {pearson_corr:.2f}\")\n",
        "print(f\"Spearman Correlation Coefficient: {spearman_corr:.2f}\")\n"
      ],
      "metadata": {
        "id": "EysF9k2m2LNT"
      },
      "execution_count": null,
      "outputs": []
    }
  ]
}